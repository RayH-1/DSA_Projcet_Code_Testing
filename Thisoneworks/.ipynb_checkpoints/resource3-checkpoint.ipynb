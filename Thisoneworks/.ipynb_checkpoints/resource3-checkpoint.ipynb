{
 "cells": [
  {
   "cell_type": "markdown",
   "id": "2aa0c10214d36e76",
   "metadata": {
    "collapsed": false,
    "jupyter": {
     "outputs_hidden": false
    }
   },
   "source": [
    "Algorithm from https://www.geeksforgeeks.org/minimize-cash-flow-among-given-set-friends-borrowed-money/"
   ]
  },
  {
   "cell_type": "code",
   "execution_count": 4,
   "id": "4991d19967a37464",
   "metadata": {
    "ExecuteTime": {
     "end_time": "2024-04-24T09:29:08.663147Z",
     "start_time": "2024-04-24T09:29:08.654362Z"
    },
    "collapsed": false,
    "jupyter": {
     "outputs_hidden": false
    }
   },
   "outputs": [
    {
     "name": "stdout",
     "output_type": "stream",
     "text": [
      "Solution 1:\n",
      "Person 2 pays 4 to Person 0\n",
      "\n",
      "Solution 2:\n",
      "Person 0 pays 124 to Person 1\n",
      "Person 3 pays 30 to Person 1\n",
      "Person 3 pays 33 to Person 2\n",
      "Person 3 pays 61 to Person 4\n"
     ]
    }
   ],
   "source": [
    "import heapq\n",
    "\n",
    "# Comparator that will be used to make priority_queue\n",
    "# containing pair of integers maxHeap Comparison is based\n",
    "# on second entry in the pair which represents cash\n",
    "# credit/debit\n",
    "class AscCmp:\n",
    "    def __call__(self, p1, p2):\n",
    "        return p1[1] < p2[1]\n",
    "\n",
    "# Comparator that will be used to make priority_queue\n",
    "# containing pair of integers minHeap Comparison is based\n",
    "# on second entry in the pair which represents cash\n",
    "# credit/debit\n",
    "class DscCmp:\n",
    "    def __call__(self, p1, p2):\n",
    "        return p1[1] > p2[1]\n",
    "\n",
    "class Solution:\n",
    "    def __init__(self):\n",
    "        self.minQ = []\n",
    "        self.maxQ = []\n",
    "\n",
    "    # This function will fill in minQ and maxQ in such a\n",
    "    # way that maxQ will have only positive value. minQ\n",
    "    # will have only negative value amount is taken as\n",
    "    # input. amount[i] => cash credit/debit to/from person\n",
    "    # i amount[i] == 0 will be ignored as no credit/debit\n",
    "    # is left.\n",
    "    def constructMinMaxQ(self, amount):\n",
    "        for i in range(len(amount)):\n",
    "            if amount[i] == 0:\n",
    "                continue\n",
    "            if amount[i] > 0:\n",
    "                heapq.heappush(self.maxQ, (i, amount[i]))\n",
    "            else:\n",
    "                heapq.heappush(self.minQ, (i, amount[i]))\n",
    "\n",
    "    # This function will iterate over minQ and maxQ until\n",
    "    # empty. It will fetch max credit and min debit. If sum\n",
    "    # of both is not equal to zero, then push remaining\n",
    "    # credit or debit back to the required queue. At the\n",
    "    # end of the loop, print result\n",
    "    def solveTransaction(self):\n",
    "        while self.minQ and self.maxQ:\n",
    "            maxCreditEntry = heapq.heappop(self.maxQ)\n",
    "            maxDebitEntry = heapq.heappop(self.minQ)\n",
    "\n",
    "            transaction_val = maxCreditEntry[1] + maxDebitEntry[1]\n",
    "\n",
    "            debtor = maxDebitEntry[0]\n",
    "            creditor = maxCreditEntry[0]\n",
    "            owed_amount = 0\n",
    "\n",
    "            if transaction_val == 0:\n",
    "                owed_amount = maxCreditEntry[1]\n",
    "            elif transaction_val < 0:\n",
    "                owed_amount = maxCreditEntry[1]\n",
    "                heapq.heappush(self.minQ, (maxDebitEntry[0], transaction_val))\n",
    "            else:\n",
    "                owed_amount = -maxDebitEntry[1]\n",
    "                heapq.heappush(self.maxQ, (maxCreditEntry[0], transaction_val))\n",
    "\n",
    "            print(f\"Person {debtor} pays {owed_amount} to Person {creditor}\")\n",
    "\n",
    "    def minCashFlow(self, graph):\n",
    "        n = len(graph)\n",
    "\n",
    "        # Calculate the cash to be credited/debited to/from\n",
    "        # each person and store in vector amount\n",
    "        amount = [0] * n\n",
    "        for i in range(n):\n",
    "            for j in range(n):\n",
    "                diff = graph[j][i] - graph[i][j]\n",
    "                amount[i] += diff\n",
    "\n",
    "        # Fill in both queues minQ and maxQ using amount\n",
    "        # vector\n",
    "        self.constructMinMaxQ(amount)\n",
    "\n",
    "        # Solve the transaction using minQ, maxQ and amount\n",
    "        # vector\n",
    "        self.solveTransaction()\n",
    "\n",
    "# Test cases\n",
    "graph1 = [\n",
    "    [0, 5, 1], #person A-> [themselves, person B, person C]\n",
    "    [0, 0, 5], #person B -> [person A, themselves, person C]\n",
    "    [10, 0, 0], #person C -> [person A, person B, themselves]\n",
    "]\n",
    "\n",
    "graph2 = [\n",
    "    [2, 63, 0, 85, 49],\n",
    "    [0, 76, 0, 0, 27],\n",
    "    [0, 0, 0, 17, 0],\n",
    "    [73, 32, 50, 6, 71],\n",
    "    [0, 86, 0, 0, 10]\n",
    "]\n",
    "\n",
    "print(\"Solution 1:\")\n",
    "S = Solution()\n",
    "S.minCashFlow(graph1)\n",
    "print(\"\\nSolution 2:\")\n",
    "S2 = Solution()\n",
    "S2.minCashFlow(graph2)\n"
   ]
  },
  {
   "cell_type": "markdown",
   "id": "6926e47f15c7f4f3",
   "metadata": {
    "collapsed": false,
    "jupyter": {
     "outputs_hidden": false
    }
   },
   "source": [
    "This algorithm works. Solution 1 is what a simple case looks like. "
   ]
  }
 ],
 "metadata": {
  "kernelspec": {
   "display_name": "Python 3 (ipykernel)",
   "language": "python",
   "name": "python3"
  },
  "language_info": {
   "codemirror_mode": {
    "name": "ipython",
    "version": 3
   },
   "file_extension": ".py",
   "mimetype": "text/x-python",
   "name": "python",
   "nbconvert_exporter": "python",
   "pygments_lexer": "ipython3",
   "version": "3.11.8"
  }
 },
 "nbformat": 4,
 "nbformat_minor": 5
}
