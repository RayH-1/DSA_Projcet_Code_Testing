{
 "cells": [
  {
   "cell_type": "markdown",
   "id": "2aa0c10214d36e76",
   "metadata": {
    "collapsed": false,
    "jupyter": {
     "outputs_hidden": false
    }
   },
   "source": [
    "Algorithm from https://www.geeksforgeeks.org/minimize-cash-flow-among-given-set-friends-borrowed-money/"
   ]
  },
  {
   "cell_type": "code",
   "execution_count": 1,
   "id": "4991d19967a37464",
   "metadata": {
    "ExecuteTime": {
     "end_time": "2024-04-24T09:29:08.663147Z",
     "start_time": "2024-04-24T09:29:08.654362Z"
    },
    "collapsed": false,
    "jupyter": {
     "outputs_hidden": false
    }
   },
   "outputs": [],
   "source": [
    "import heapq\n",
    "\n",
    "# Comparator that will be used to make priority_queue\n",
    "# containing pair of integers maxHeap Comparison is based\n",
    "# on second entry in the pair which represents cash\n",
    "# credit/debit\n",
    "class AscCmp:\n",
    "    def __call__(self, p1, p2):\n",
    "        return p1[1] < p2[1]\n",
    "\n",
    "# Comparator that will be used to make priority_queue\n",
    "# containing pair of integers minHeap Comparison is based\n",
    "# on second entry in the pair which represents cash\n",
    "# credit/debit\n",
    "class DscCmp:\n",
    "    def __call__(self, p1, p2):\n",
    "        return p1[1] > p2[1]\n",
    "\n",
    "class Solution:\n",
    "    def __init__(self):\n",
    "        self.minQ = []\n",
    "        self.maxQ = []\n",
    "\n",
    "    # This function will fill in minQ and maxQ in such a\n",
    "    # way that maxQ will have only positive value. minQ\n",
    "    # will have only negative value amount is taken as\n",
    "    # input. amount[i] => cash credit/debit to/from person\n",
    "    # i amount[i] == 0 will be ignored as no credit/debit\n",
    "    # is left.\n",
    "    def constructMinMaxQ(self, amount):\n",
    "        for i in range(len(amount)):\n",
    "            if amount[i] == 0:\n",
    "                continue\n",
    "            if amount[i] > 0:\n",
    "                heapq.heappush(self.maxQ, (i, amount[i]))\n",
    "            else:\n",
    "                heapq.heappush(self.minQ, (i, amount[i]))\n",
    "\n",
    "    # This function will iterate over minQ and maxQ until\n",
    "    # empty. It will fetch max credit and min debit. If sum\n",
    "    # of both is not equal to zero, then push remaining\n",
    "    # credit or debit back to the required queue. At the\n",
    "    # end of the loop, print result\n",
    "    def solveTransaction(self):\n",
    "        while self.minQ and self.maxQ:\n",
    "            maxCreditEntry = heapq.heappop(self.maxQ)\n",
    "            maxDebitEntry = heapq.heappop(self.minQ)\n",
    "\n",
    "            transaction_val = maxCreditEntry[1] + maxDebitEntry[1]\n",
    "\n",
    "            debtor = maxDebitEntry[0]\n",
    "            creditor = maxCreditEntry[0]\n",
    "            owed_amount = 0\n",
    "\n",
    "            if transaction_val == 0:\n",
    "                owed_amount = maxCreditEntry[1]\n",
    "            elif transaction_val < 0:\n",
    "                owed_amount = maxCreditEntry[1]\n",
    "                heapq.heappush(self.minQ, (maxDebitEntry[0], transaction_val))\n",
    "            else:\n",
    "                owed_amount = -maxDebitEntry[1]\n",
    "                heapq.heappush(self.maxQ, (maxCreditEntry[0], transaction_val))\n",
    "\n",
    "            print(f\"Person {debtor} pays {owed_amount} to Person {creditor}\")\n",
    "\n",
    "    def minCashFlow(self, graph):\n",
    "        n = len(graph)\n",
    "\n",
    "        # Calculate the cash to be credited/debited to/from\n",
    "        # each person and store in vector amount\n",
    "        amount = [0] * n\n",
    "        for i in range(n):\n",
    "            for j in range(n):\n",
    "                diff = graph[j][i] - graph[i][j]\n",
    "                amount[i] += diff\n",
    "\n",
    "        # Fill in both queues minQ and maxQ using amount\n",
    "        # vector\n",
    "        self.constructMinMaxQ(amount)\n",
    "\n",
    "        # Solve the transaction using minQ, maxQ and amount\n",
    "        # vector\n",
    "        self.solveTransaction()\n",
    "\n"
   ]
  },
  {
   "cell_type": "code",
   "execution_count": 2,
   "id": "376f3fa3-ceb8-4ca6-b36a-470f66559b3a",
   "metadata": {},
   "outputs": [
    {
     "name": "stdout",
     "output_type": "stream",
     "text": [
      "Solution 1:\n",
      "Person 2 pays 4 to Person 0\n",
      "\n",
      "Solution 2:\n",
      "Person 0 pays 124 to Person 1\n",
      "Person 3 pays 30 to Person 1\n",
      "Person 3 pays 33 to Person 2\n",
      "Person 3 pays 61 to Person 4\n"
     ]
    }
   ],
   "source": [
    "# Test cases\n",
    "graph1 = [\n",
    "    [0, 5, 1], #person A-> [themselves, person B, person C]\n",
    "    [0, 0, 5], #person B -> [person A, themselves, person C]\n",
    "    [10, 0, 0], #person C -> [person A, person B, themselves]\n",
    "]\n",
    "\n",
    "graph2 = [\n",
    "    [2, 63, 0, 85, 49],\n",
    "    [0, 76, 0, 0, 27],\n",
    "    [0, 0, 0, 17, 0],\n",
    "    [73, 32, 50, 6, 71],\n",
    "    [0, 86, 0, 0, 10]\n",
    "]\n",
    "\n",
    "print(\"Solution 1:\")\n",
    "S = Solution()\n",
    "S.minCashFlow(graph1)\n",
    "print(\"\\nSolution 2:\")\n",
    "S2 = Solution()\n",
    "S2.minCashFlow(graph2)\n"
   ]
  },
  {
   "cell_type": "markdown",
   "id": "6926e47f15c7f4f3",
   "metadata": {
    "collapsed": false,
    "jupyter": {
     "outputs_hidden": false
    }
   },
   "source": [
    "This algorithm works. Solution 1 is what a simple case looks like. "
   ]
  },
  {
   "cell_type": "code",
   "execution_count": 3,
   "id": "00d4cca6-801c-4372-b704-6bf3381b785c",
   "metadata": {},
   "outputs": [
    {
     "ename": "UnicodeDecodeError",
     "evalue": "'charmap' codec can't decode byte 0x8f in position 114: character maps to <undefined>",
     "output_type": "error",
     "traceback": [
      "\u001b[1;31m---------------------------------------------------------------------------\u001b[0m",
      "\u001b[1;31mUnicodeDecodeError\u001b[0m                        Traceback (most recent call last)",
      "Cell \u001b[1;32mIn[3], line 32\u001b[0m\n\u001b[0;32m     29\u001b[0m     \u001b[38;5;28;01mreturn\u001b[39;00m graph\n\u001b[0;32m     31\u001b[0m \u001b[38;5;66;03m# Test cases\u001b[39;00m\n\u001b[1;32m---> 32\u001b[0m graph1 \u001b[38;5;241m=\u001b[39m read_csv(\u001b[38;5;124m'\u001b[39m\u001b[38;5;124mfalsedata.csv\u001b[39m\u001b[38;5;124m'\u001b[39m)\n\u001b[0;32m     34\u001b[0m \u001b[38;5;28mprint\u001b[39m(\u001b[38;5;124m\"\u001b[39m\u001b[38;5;124mSolution 1:\u001b[39m\u001b[38;5;124m\"\u001b[39m)\n\u001b[0;32m     35\u001b[0m S \u001b[38;5;241m=\u001b[39m Solution()\n",
      "Cell \u001b[1;32mIn[3], line 11\u001b[0m, in \u001b[0;36mread_csv\u001b[1;34m(filename)\u001b[0m\n\u001b[0;32m      9\u001b[0m \u001b[38;5;28;01mwith\u001b[39;00m \u001b[38;5;28mopen\u001b[39m(filename, \u001b[38;5;124m'\u001b[39m\u001b[38;5;124mr\u001b[39m\u001b[38;5;124m'\u001b[39m) \u001b[38;5;28;01mas\u001b[39;00m csvfile:\n\u001b[0;32m     10\u001b[0m     reader \u001b[38;5;241m=\u001b[39m csv\u001b[38;5;241m.\u001b[39mreader(csvfile)\n\u001b[1;32m---> 11\u001b[0m     \u001b[38;5;28mnext\u001b[39m(reader)  \u001b[38;5;66;03m# Skip header row\u001b[39;00m\n\u001b[0;32m     12\u001b[0m     \u001b[38;5;28;01mfor\u001b[39;00m row \u001b[38;5;129;01min\u001b[39;00m reader:\n\u001b[0;32m     13\u001b[0m         user_id \u001b[38;5;241m=\u001b[39m \u001b[38;5;28mint\u001b[39m(row[\u001b[38;5;241m0\u001b[39m])\n",
      "File \u001b[1;32m~\\anaconda3\\envs\\dsa_py311\\Lib\\encodings\\cp1252.py:23\u001b[0m, in \u001b[0;36mIncrementalDecoder.decode\u001b[1;34m(self, input, final)\u001b[0m\n\u001b[0;32m     22\u001b[0m \u001b[38;5;28;01mdef\u001b[39;00m \u001b[38;5;21mdecode\u001b[39m(\u001b[38;5;28mself\u001b[39m, \u001b[38;5;28minput\u001b[39m, final\u001b[38;5;241m=\u001b[39m\u001b[38;5;28;01mFalse\u001b[39;00m):\n\u001b[1;32m---> 23\u001b[0m     \u001b[38;5;28;01mreturn\u001b[39;00m codecs\u001b[38;5;241m.\u001b[39mcharmap_decode(\u001b[38;5;28minput\u001b[39m,\u001b[38;5;28mself\u001b[39m\u001b[38;5;241m.\u001b[39merrors,decoding_table)[\u001b[38;5;241m0\u001b[39m]\n",
      "\u001b[1;31mUnicodeDecodeError\u001b[0m: 'charmap' codec can't decode byte 0x8f in position 114: character maps to <undefined>"
     ]
    }
   ],
   "source": [
    "import csv\n",
    "\n",
    "def read_csv(filename):\n",
    "    graph = []\n",
    "\n",
    "    # Initialize a dictionary to store user IDs and their indices in the graph\n",
    "    user_indices = {}\n",
    "\n",
    "    with open(filename, 'r') as csvfile:\n",
    "        reader = csv.reader(csvfile)\n",
    "        next(reader)  # Skip header row\n",
    "        for row in reader:\n",
    "            user_id = int(row[0])\n",
    "            giver = int(row[1])\n",
    "            amount = int(row[2])\n",
    "            receiver_id = int(row[3])\n",
    "\n",
    "            # Add giver and receiver IDs to the user_indices dictionary\n",
    "            user_indices.setdefault(giver, len(user_indices))\n",
    "            user_indices.setdefault(receiver_id, len(user_indices))\n",
    "\n",
    "            # If the graph doesn't have enough rows/columns, add more\n",
    "            while len(graph) <= user_indices[giver] or len(graph) <= user_indices[receiver_id]:\n",
    "                graph.append([0] * len(graph))\n",
    "\n",
    "            # Update the graph with the transaction amounts\n",
    "            graph[user_indices[giver]][user_indices[receiver_id]] += amount\n",
    "\n",
    "    return graph\n",
    "\n",
    "# Test cases\n",
    "graph1 = read_csv('falsedata.csv')\n",
    "\n",
    "print(\"Solution 1:\")\n",
    "S = Solution()\n",
    "S.minCashFlow(graph1)\n"
   ]
  },
  {
   "cell_type": "code",
   "execution_count": null,
   "id": "88ebf41f-ba35-452f-8802-0581d249096e",
   "metadata": {},
   "outputs": [],
   "source": []
  }
 ],
 "metadata": {
  "kernelspec": {
   "display_name": "Python 3 (ipykernel)",
   "language": "python",
   "name": "python3"
  },
  "language_info": {
   "codemirror_mode": {
    "name": "ipython",
    "version": 3
   },
   "file_extension": ".py",
   "mimetype": "text/x-python",
   "name": "python",
   "nbconvert_exporter": "python",
   "pygments_lexer": "ipython3",
   "version": "3.11.8"
  }
 },
 "nbformat": 4,
 "nbformat_minor": 5
}
