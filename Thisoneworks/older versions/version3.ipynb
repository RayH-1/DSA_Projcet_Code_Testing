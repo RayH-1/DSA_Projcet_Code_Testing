{
 "cells": [
  {
   "cell_type": "code",
   "execution_count": 1,
   "id": "aa0ef433-e79e-43fb-9863-58ca39cea22c",
   "metadata": {},
   "outputs": [],
   "source": [
    "import pandas as pd \n",
    "transactions = pd.read_csv('falseusers.csv')"
   ]
  },
  {
   "cell_type": "code",
   "execution_count": 2,
   "id": "d1821ed2-ba15-4e92-bdc1-bdc0786aba37",
   "metadata": {},
   "outputs": [],
   "source": [
    "import heapq\n",
    "\n",
    "# Comparator that will be used to make priority_queue\n",
    "# containing pair of integers maxHeap Comparison is based\n",
    "# on second entry in the pair which represents cash\n",
    "# credit/debit\n",
    "class AscCmp:\n",
    "    def __call__(self, p1, p2):\n",
    "        return p1[1] < p2[1]\n",
    "\n",
    "# Comparator that will be used to make priority_queue\n",
    "# containing pair of integers minHeap Comparison is based\n",
    "# on second entry in the pair which represents cash\n",
    "# credit/debit\n",
    "class DscCmp:\n",
    "    def __call__(self, p1, p2):\n",
    "        return p1[1] > p2[1]\n",
    "\n",
    "class Solution:\n",
    "    def __init__(self):\n",
    "        self.minQ = []\n",
    "        self.maxQ = []\n",
    "\n",
    "    # This function will fill in minQ and maxQ in such a\n",
    "    # way that maxQ will have only positive value. minQ\n",
    "    # will have only negative value amount is taken as\n",
    "    # input. amount[i] => cash credit/debit to/from person\n",
    "    # i amount[i] == 0 will be ignored as no credit/debit\n",
    "    # is left.\n",
    "    def constructMinMaxQ(self, amount):\n",
    "        for i in range(len(amount)):\n",
    "            if amount[i] == 0:\n",
    "                continue\n",
    "            if amount[i] > 0:\n",
    "                heapq.heappush(self.maxQ, (i, amount[i]))\n",
    "            else:\n",
    "                heapq.heappush(self.minQ, (i, amount[i]))\n",
    "\n",
    "    # This function will iterate over minQ and maxQ until\n",
    "    # empty. It will fetch max credit and min debit. If sum\n",
    "    # of both is not equal to zero, then push remaining\n",
    "    # credit or debit back to the required queue. At the\n",
    "    # end of the loop, print result\n",
    "    def solveTransaction(self):\n",
    "        while self.minQ and self.maxQ:\n",
    "            maxCreditEntry = heapq.heappop(self.maxQ)\n",
    "            maxDebitEntry = heapq.heappop(self.minQ)\n",
    "\n",
    "            transaction_val = maxCreditEntry[1] + maxDebitEntry[1]\n",
    "\n",
    "            debtor = maxDebitEntry[0]\n",
    "            creditor = maxCreditEntry[0]\n",
    "            owed_amount = 0\n",
    "\n",
    "            if transaction_val == 0:\n",
    "                owed_amount = maxCreditEntry[1]\n",
    "            elif transaction_val < 0:\n",
    "                owed_amount = maxCreditEntry[1]\n",
    "                heapq.heappush(self.minQ, (maxDebitEntry[0], transaction_val))\n",
    "            else:\n",
    "                owed_amount = -maxDebitEntry[1]\n",
    "                heapq.heappush(self.maxQ, (maxCreditEntry[0], transaction_val))\n",
    "\n",
    "            print(f\"{transactions[transactions['id'] == debtor]['first_name'].values[0]} pays {owed_amount} euros to {transactions[transactions['id'] == creditor]['first_name'].values[0]}\")\n",
    "            \n",
    "            \n",
    "\n",
    "    def minCashFlow(self, graph):\n",
    "        n = len(graph)\n",
    "\n",
    "        # Calculate the cash to be credited/debited to/from\n",
    "        # each person and store in vector amount\n",
    "        amount = [0] * n\n",
    "        for i in range(n):\n",
    "            for j in range(n):\n",
    "                diff = graph[j][i] - graph[i][j]\n",
    "                amount[i] += diff\n",
    "\n",
    "        # Fill in both queues minQ and maxQ using amount\n",
    "        # vector\n",
    "        self.constructMinMaxQ(amount)\n",
    "\n",
    "        # Solve the transaction using minQ, maxQ and amount\n",
    "        # vector\n",
    "        self.solveTransaction()\n",
    "\n"
   ]
  },
  {
   "cell_type": "code",
   "execution_count": 3,
   "id": "120b587d-26b4-4f85-b11f-167b045843c7",
   "metadata": {},
   "outputs": [
    {
     "name": "stdout",
     "output_type": "stream",
     "text": [
      "[0, 5, 1]\n",
      "[0, 0, 5]\n",
      "[10, 0, 0]\n"
     ]
    }
   ],
   "source": [
    "import csv\n",
    "\n",
    "def read_csv_to_adjacency_matrix(filename):\n",
    "    persons = set()  # Store unique persons\n",
    "\n",
    "    # Read the CSV file to determine unique persons\n",
    "    with open(filename, 'r') as csvfile:\n",
    "        reader = csv.reader(csvfile)\n",
    "        next(reader)  # Skip header row\n",
    "        for row in reader:\n",
    "            giver = row[3]\n",
    "            receiver = row[6]\n",
    "            persons.add(giver)\n",
    "            persons.add(receiver)\n",
    "\n",
    "    persons = sorted(persons)  # Sort persons alphabetically\n",
    "\n",
    "    n = len(persons)\n",
    "    adjacency_matrix = [[0] * n for _ in range(n)]\n",
    "\n",
    "    # Populate the adjacency matrix with transaction amounts\n",
    "    with open(filename, 'r') as csvfile:\n",
    "        reader = csv.reader(csvfile)\n",
    "        next(reader)  # Skip header row\n",
    "        for row in reader:\n",
    "            giver = row[3]\n",
    "            receiver = row[6]\n",
    "            amount = int(row[4])\n",
    "\n",
    "            i = persons.index(giver)\n",
    "            j = persons.index(receiver)\n",
    "            adjacency_matrix[i][j] += amount\n",
    "\n",
    "    return adjacency_matrix\n",
    "\n",
    "# Example usage:\n",
    "graph1 = read_csv_to_adjacency_matrix('falsedata.csv')\n",
    "for row in graph1:\n",
    "    print(row)\n"
   ]
  },
  {
   "cell_type": "code",
   "execution_count": 4,
   "id": "f835c201-bc13-4680-89e1-e319aa692883",
   "metadata": {},
   "outputs": [
    {
     "name": "stdout",
     "output_type": "stream",
     "text": [
      "Charlie  pays 4 euros to Alice \n"
     ]
    }
   ],
   "source": [
    "S = Solution()\n",
    "S.minCashFlow(graph1)"
   ]
  },
  {
   "cell_type": "code",
   "execution_count": 5,
   "id": "293fe04d-4eb4-44e3-997f-2ddc1d698fe2",
   "metadata": {},
   "outputs": [
    {
     "data": {
      "text/html": [
       "<div>\n",
       "<style scoped>\n",
       "    .dataframe tbody tr th:only-of-type {\n",
       "        vertical-align: middle;\n",
       "    }\n",
       "\n",
       "    .dataframe tbody tr th {\n",
       "        vertical-align: top;\n",
       "    }\n",
       "\n",
       "    .dataframe thead th {\n",
       "        text-align: right;\n",
       "    }\n",
       "</style>\n",
       "<table border=\"1\" class=\"dataframe\">\n",
       "  <thead>\n",
       "    <tr style=\"text-align: right;\">\n",
       "      <th></th>\n",
       "      <th>id</th>\n",
       "      <th>email</th>\n",
       "      <th>first_name</th>\n",
       "      <th>last_name</th>\n",
       "      <th>password_hash</th>\n",
       "    </tr>\n",
       "  </thead>\n",
       "  <tbody>\n",
       "    <tr>\n",
       "      <th>0</th>\n",
       "      <td>0</td>\n",
       "      <td>alice@hs</td>\n",
       "      <td>Alice</td>\n",
       "      <td>Alpha</td>\n",
       "      <td>kdj;alkjdsa</td>\n",
       "    </tr>\n",
       "    <tr>\n",
       "      <th>1</th>\n",
       "      <td>1</td>\n",
       "      <td>bob@hs</td>\n",
       "      <td>Bob</td>\n",
       "      <td>Beta</td>\n",
       "      <td>akdjaslk;jda</td>\n",
       "    </tr>\n",
       "    <tr>\n",
       "      <th>2</th>\n",
       "      <td>2</td>\n",
       "      <td>ch@hs</td>\n",
       "      <td>Charlie</td>\n",
       "      <td>Omega</td>\n",
       "      <td>alldjaslk;j;</td>\n",
       "    </tr>\n",
       "  </tbody>\n",
       "</table>\n",
       "</div>"
      ],
      "text/plain": [
       "   id     email first_name last_name password_hash\n",
       "0   0  alice@hs     Alice      Alpha   kdj;alkjdsa\n",
       "1   1    bob@hs       Bob       Beta  akdjaslk;jda\n",
       "2   2     ch@hs   Charlie      Omega  alldjaslk;j;"
      ]
     },
     "execution_count": 5,
     "metadata": {},
     "output_type": "execute_result"
    }
   ],
   "source": [
    "transactions.head()"
   ]
  },
  {
   "cell_type": "markdown",
   "id": "196ee0a4-ea8e-4319-a546-da91d5544186",
   "metadata": {},
   "source": [
    "## From the existing db, please delete \"debtor_1, debtor_2, debtor_3\" accordingly. Make sure the db matches the columsn that exist in falseusers and falsedata. "
   ]
  },
  {
   "cell_type": "code",
   "execution_count": null,
   "id": "2278ffc5-443f-4581-a785-43d410a6465d",
   "metadata": {},
   "outputs": [],
   "source": []
  }
 ],
 "metadata": {
  "kernelspec": {
   "display_name": "Python 3 (ipykernel)",
   "language": "python",
   "name": "python3"
  },
  "language_info": {
   "codemirror_mode": {
    "name": "ipython",
    "version": 3
   },
   "file_extension": ".py",
   "mimetype": "text/x-python",
   "name": "python",
   "nbconvert_exporter": "python",
   "pygments_lexer": "ipython3",
   "version": "3.11.8"
  }
 },
 "nbformat": 4,
 "nbformat_minor": 5
}
