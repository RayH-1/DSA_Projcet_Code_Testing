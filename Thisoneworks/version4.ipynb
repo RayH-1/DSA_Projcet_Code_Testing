{
 "cells": [
  {
   "cell_type": "markdown",
   "id": "4be93055-3e2b-4ec4-9f1c-67e91b90a8ba",
   "metadata": {},
   "source": [
    "import pandas as pd\n",
    "import sqlite3"
   ]
  },
  {
   "cell_type": "markdown",
   "id": "d05639e7-32b4-497b-a1f3-6b412a3e9179",
   "metadata": {},
   "source": [
    "# Read CSV files\n",
    "debt_item = pd.read_csv('falsedata.csv')\n",
    "user = pd.read_csv('falseusers.csv')\n",
    "\n",
    "# Establish a connection to the database\n",
    "conn = sqlite3.connect('site.db')\n",
    "\n",
    "# Write dataframes to SQLite tables\n",
    "debt_item.to_sql('debt_item', conn, if_exists='replace', index=False)\n",
    "user.to_sql('user', conn, if_exists='replace', index=False)\n",
    "\n",
    "# Commit changes and close connection\n",
    "conn.commit()\n",
    "conn.close()"
   ]
  },
  {
   "cell_type": "code",
   "execution_count": 1,
   "id": "9e0e6b4f-bacd-4440-af31-9e90b6f5d098",
   "metadata": {},
   "outputs": [],
   "source": [
    "import pandas as pd\n",
    "import sqlite3\n",
    "\n",
    "# Import the debt_item table into a DataFrame named transactions\n",
    "def import_debt_item(database_file):\n",
    "    conn = sqlite3.connect(database_file)\n",
    "    transactions = pd.read_sql_query(\"SELECT * FROM user\", conn)\n",
    "    conn.close()\n",
    "    return transactions\n",
    "\n",
    "# Example usage:\n",
    "transactions = import_debt_item('site.db')"
   ]
  },
  {
   "cell_type": "code",
   "execution_count": 2,
   "id": "b4cb8988-748b-4c5a-8588-36a169092b44",
   "metadata": {},
   "outputs": [
    {
     "data": {
      "text/html": [
       "<div>\n",
       "<style scoped>\n",
       "    .dataframe tbody tr th:only-of-type {\n",
       "        vertical-align: middle;\n",
       "    }\n",
       "\n",
       "    .dataframe tbody tr th {\n",
       "        vertical-align: top;\n",
       "    }\n",
       "\n",
       "    .dataframe thead th {\n",
       "        text-align: right;\n",
       "    }\n",
       "</style>\n",
       "<table border=\"1\" class=\"dataframe\">\n",
       "  <thead>\n",
       "    <tr style=\"text-align: right;\">\n",
       "      <th></th>\n",
       "      <th>id</th>\n",
       "      <th>email</th>\n",
       "      <th>first_name</th>\n",
       "      <th>last_name</th>\n",
       "      <th>password_hash</th>\n",
       "    </tr>\n",
       "  </thead>\n",
       "  <tbody>\n",
       "    <tr>\n",
       "      <th>0</th>\n",
       "      <td>0</td>\n",
       "      <td>alice@hs</td>\n",
       "      <td>Alice</td>\n",
       "      <td>Alpha</td>\n",
       "      <td>kdj;alkjdsa</td>\n",
       "    </tr>\n",
       "    <tr>\n",
       "      <th>1</th>\n",
       "      <td>1</td>\n",
       "      <td>bob@hs</td>\n",
       "      <td>Bob</td>\n",
       "      <td>Beta</td>\n",
       "      <td>akdjaslk;jda</td>\n",
       "    </tr>\n",
       "    <tr>\n",
       "      <th>2</th>\n",
       "      <td>2</td>\n",
       "      <td>ch@hs</td>\n",
       "      <td>Charlie</td>\n",
       "      <td>Omega</td>\n",
       "      <td>alldjaslk;j;</td>\n",
       "    </tr>\n",
       "  </tbody>\n",
       "</table>\n",
       "</div>"
      ],
      "text/plain": [
       "   id     email first_name last_name password_hash\n",
       "0   0  alice@hs     Alice      Alpha   kdj;alkjdsa\n",
       "1   1    bob@hs       Bob       Beta  akdjaslk;jda\n",
       "2   2     ch@hs   Charlie      Omega  alldjaslk;j;"
      ]
     },
     "execution_count": 2,
     "metadata": {},
     "output_type": "execute_result"
    }
   ],
   "source": [
    "transactions.head()"
   ]
  },
  {
   "cell_type": "code",
   "execution_count": 3,
   "id": "3dc36def-5edf-4798-9eea-d47b45d087bc",
   "metadata": {},
   "outputs": [],
   "source": [
    "import heapq\n",
    "\n",
    "# Comparator that will be used to make priority_queue\n",
    "# containing pair of integers maxHeap Comparison is based\n",
    "# on second entry in the pair which represents cash\n",
    "# credit/debit\n",
    "class AscCmp:\n",
    "    def __call__(self, p1, p2):\n",
    "        return p1[1] < p2[1]\n",
    "\n",
    "# Comparator that will be used to make priority_queue\n",
    "# containing pair of integers minHeap Comparison is based\n",
    "# on second entry in the pair which represents cash\n",
    "# credit/debit\n",
    "class DscCmp:\n",
    "    def __call__(self, p1, p2):\n",
    "        return p1[1] > p2[1]\n",
    "\n",
    "class Solution:\n",
    "    def __init__(self):\n",
    "        self.minQ = []\n",
    "        self.maxQ = []\n",
    "\n",
    "    # This function will fill in minQ and maxQ in such a\n",
    "    # way that maxQ will have only positive value. minQ\n",
    "    # will have only negative value amount is taken as\n",
    "    # input. amount[i] => cash credit/debit to/from person\n",
    "    # i amount[i] == 0 will be ignored as no credit/debit\n",
    "    # is left.\n",
    "    def constructMinMaxQ(self, amount):\n",
    "        for i in range(len(amount)):\n",
    "            if amount[i] == 0:\n",
    "                continue\n",
    "            if amount[i] > 0:\n",
    "                heapq.heappush(self.maxQ, (i, amount[i]))\n",
    "            else:\n",
    "                heapq.heappush(self.minQ, (i, amount[i]))\n",
    "\n",
    "    # This function will iterate over minQ and maxQ until\n",
    "    # empty. It will fetch max credit and min debit. If sum\n",
    "    # of both is not equal to zero, then push remaining\n",
    "    # credit or debit back to the required queue. At the\n",
    "    # end of the loop, print result\n",
    "    def solveTransaction(self):\n",
    "        while self.minQ and self.maxQ:\n",
    "            maxCreditEntry = heapq.heappop(self.maxQ)\n",
    "            maxDebitEntry = heapq.heappop(self.minQ)\n",
    "\n",
    "            transaction_val = maxCreditEntry[1] + maxDebitEntry[1]\n",
    "\n",
    "            debtor = maxDebitEntry[0]\n",
    "            creditor = maxCreditEntry[0]\n",
    "            owed_amount = 0\n",
    "\n",
    "            if transaction_val == 0:\n",
    "                owed_amount = maxCreditEntry[1]\n",
    "            elif transaction_val < 0:\n",
    "                owed_amount = maxCreditEntry[1]\n",
    "                heapq.heappush(self.minQ, (maxDebitEntry[0], transaction_val))\n",
    "            else:\n",
    "                owed_amount = -maxDebitEntry[1]\n",
    "                heapq.heappush(self.maxQ, (maxCreditEntry[0], transaction_val))\n",
    "\n",
    "            print(f\"{transactions[transactions['id'] == debtor]['first_name'].values[0]} pays {owed_amount} euros to {transactions[transactions['id'] == creditor]['first_name'].values[0]}\")\n",
    "            \n",
    "            \n",
    "\n",
    "    def minCashFlow(self, graph):\n",
    "        n = len(graph)\n",
    "\n",
    "        # Calculate the cash to be credited/debited to/from\n",
    "        # each person and store in vector amount\n",
    "        amount = [0] * n\n",
    "        for i in range(n):\n",
    "            for j in range(n):\n",
    "                diff = graph[j][i] - graph[i][j]\n",
    "                amount[i] += diff\n",
    "\n",
    "        # Fill in both queues minQ and maxQ using amount\n",
    "        # vector\n",
    "        self.constructMinMaxQ(amount)\n",
    "\n",
    "        # Solve the transaction using minQ, maxQ and amount\n",
    "        # vector\n",
    "        self.solveTransaction()\n",
    "\n"
   ]
  },
  {
   "cell_type": "code",
   "execution_count": 4,
   "id": "8090641c-f0e3-4e4d-b387-edbf09a7a828",
   "metadata": {},
   "outputs": [],
   "source": [
    "import sqlite3\n",
    "\n",
    "def read_db_to_adjacency_matrix(database_file):\n",
    "    persons = set()  # Store unique persons\n",
    "\n",
    "    # Connect to the SQLite database\n",
    "    conn = sqlite3.connect(database_file)\n",
    "    cursor = conn.cursor()\n",
    "\n",
    "    # Query the database to determine unique persons\n",
    "    cursor.execute(\"SELECT giver, receiver FROM debt_item\")\n",
    "    rows = cursor.fetchall()\n",
    "    for row in rows:\n",
    "        giver = row[0]\n",
    "        receiver = row[1]\n",
    "        persons.add(giver)\n",
    "        persons.add(receiver)\n",
    "\n",
    "    persons = sorted(persons)  # Sort persons alphabetically\n",
    "\n",
    "    n = len(persons)\n",
    "    adjacency_matrix = [[0] * n for _ in range(n)]\n",
    "\n",
    "    # Populate the adjacency matrix with transaction amounts\n",
    "    cursor.execute(\"SELECT giver, receiver, amount FROM debt_item\")\n",
    "    rows = cursor.fetchall()\n",
    "    for row in rows:\n",
    "        giver = row[0]\n",
    "        receiver = row[1]\n",
    "        amount = row[2]\n",
    "\n",
    "        i = persons.index(giver)\n",
    "        j = persons.index(receiver)\n",
    "        adjacency_matrix[i][j] += amount\n",
    "\n",
    "    # Close the database connection\n",
    "    conn.close()\n",
    "\n",
    "    return adjacency_matrix\n",
    "\n",
    "\n"
   ]
  },
  {
   "cell_type": "code",
   "execution_count": 5,
   "id": "1a320e5a-1a9d-4695-b536-969c993c9c33",
   "metadata": {},
   "outputs": [
    {
     "name": "stdout",
     "output_type": "stream",
     "text": [
      "[0, 5, 1]\n",
      "[0, 0, 5]\n",
      "[10, 0, 0]\n"
     ]
    }
   ],
   "source": [
    "# Example usage:\n",
    "graph1 = read_db_to_adjacency_matrix('site.db')\n",
    "for row in graph1:\n",
    "    print(row)\n",
    "\n"
   ]
  },
  {
   "cell_type": "code",
   "execution_count": 6,
   "id": "e7c9a7ea-489f-428e-be72-6dabac734529",
   "metadata": {},
   "outputs": [
    {
     "name": "stdout",
     "output_type": "stream",
     "text": [
      "Charlie  pays 4 euros to Alice \n"
     ]
    }
   ],
   "source": [
    "S = Solution()\n",
    "S.minCashFlow(graph1)"
   ]
  },
  {
   "cell_type": "markdown",
   "id": "c71a3318-e4a0-45eb-9111-88972797e983",
   "metadata": {},
   "source": [
    "## From the existing db, please delete \"debtor_1, debtor_2, debtor_3\" accordingly. Make sure the db matches the columsn that exist in falseusers and falsedata. "
   ]
  }
 ],
 "metadata": {
  "kernelspec": {
   "display_name": "Python 3 (ipykernel)",
   "language": "python",
   "name": "python3"
  },
  "language_info": {
   "codemirror_mode": {
    "name": "ipython",
    "version": 3
   },
   "file_extension": ".py",
   "mimetype": "text/x-python",
   "name": "python",
   "nbconvert_exporter": "python",
   "pygments_lexer": "ipython3",
   "version": "3.11.8"
  }
 },
 "nbformat": 4,
 "nbformat_minor": 5
}
