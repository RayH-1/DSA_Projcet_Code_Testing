{
 "cells": [
  {
   "cell_type": "code",
   "execution_count": 11,
   "id": "initial_id",
   "metadata": {
    "collapsed": true,
    "ExecuteTime": {
     "end_time": "2024-04-23T19:42:43.243491Z",
     "start_time": "2024-04-23T19:42:43.231491Z"
    }
   },
   "outputs": [
    {
     "name": "stdout",
     "output_type": "stream",
     "text": [
      "Total amount owed by user 1: 6\n",
      "Simplified transactions:\n",
      "(1, 3, 1)\n",
      "(1, 2, 5)\n"
     ]
    }
   ],
   "source": [
    "class DisjointSet:\n",
    "    def __init__(self, n):\n",
    "        self.parent = [i for i in range(n)]\n",
    "        self.rank = [0] * n\n",
    "\n",
    "    def find(self, u):\n",
    "        if self.parent[u] != u:\n",
    "            self.parent[u] = self.find(self.parent[u])\n",
    "        return self.parent[u]\n",
    "\n",
    "    def union(self, u, v):\n",
    "        pu, pv = self.find(u), self.find(v)\n",
    "        if pu == pv:\n",
    "            return False\n",
    "        if self.rank[pu] < self.rank[pv]:\n",
    "            self.parent[pu] = pv\n",
    "        elif self.rank[pu] > self.rank[pv]:\n",
    "            self.parent[pv] = pu\n",
    "        else:\n",
    "            self.parent[pv] = pu\n",
    "            self.rank[pu] += 1\n",
    "        return True\n",
    "\n",
    "def simplify_debts(transactions, user_id):\n",
    "    n = max(max(transaction[1], transaction[2]) for transaction in transactions) + 1\n",
    "    disjoint_set = DisjointSet(n)\n",
    "\n",
    "    # Create a list of edges with weights\n",
    "    edges = []\n",
    "    for i, (giver, receiver, amount) in enumerate(transactions):\n",
    "        edges.append((i, giver, receiver, amount))\n",
    "\n",
    "    # Sort edges by amount\n",
    "    edges.sort(key=lambda x: x[3])\n",
    "\n",
    "    simplified_transactions = []\n",
    "    total_owed = 0\n",
    "\n",
    "    # Process each edge\n",
    "    for edge in edges:\n",
    "        i, giver, receiver, amount = edge\n",
    "        if disjoint_set.find(giver) != disjoint_set.find(receiver):\n",
    "            disjoint_set.union(giver, receiver)\n",
    "            simplified_transactions.append((giver, receiver, amount))\n",
    "            if giver == user_id:\n",
    "                total_owed += amount\n",
    "            elif receiver == user_id:\n",
    "                total_owed -= amount\n",
    "\n",
    "    return total_owed, simplified_transactions\n",
    "\n",
    "# Example usage:\n",
    "transactions = [\n",
    "    (1, 2, 5),\n",
    "    (2, 3, 5),\n",
    "    (3, 1, 10),\n",
    "    (1, 3, 1)\n",
    "]\n",
    "\n",
    "user_id = 1\n",
    "amount_owed, simplified_transactions = simplify_debts(transactions, user_id)\n",
    "print(\"Total amount owed by user {}: {}\".format(user_id, amount_owed))\n",
    "print(\"Simplified transactions:\")\n",
    "for transaction in simplified_transactions:\n",
    "    print(transaction)\n"
   ]
  },
  {
   "cell_type": "markdown",
   "source": [
    "Not giving the correct solution. Well, technically it is but it is not giving what I expect."
   ],
   "metadata": {
    "collapsed": false
   },
   "id": "aad4957d6683a156"
  }
 ],
 "metadata": {
  "kernelspec": {
   "display_name": "Python 3",
   "language": "python",
   "name": "python3"
  },
  "language_info": {
   "codemirror_mode": {
    "name": "ipython",
    "version": 2
   },
   "file_extension": ".py",
   "mimetype": "text/x-python",
   "name": "python",
   "nbconvert_exporter": "python",
   "pygments_lexer": "ipython2",
   "version": "2.7.6"
  }
 },
 "nbformat": 4,
 "nbformat_minor": 5
}
